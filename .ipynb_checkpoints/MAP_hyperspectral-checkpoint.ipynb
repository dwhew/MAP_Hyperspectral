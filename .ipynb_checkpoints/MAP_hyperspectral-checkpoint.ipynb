{
 "cells": [
  {
   "cell_type": "code",
   "execution_count": 1,
   "id": "cordless-nursery",
   "metadata": {},
   "outputs": [],
   "source": [
    "import numpy as np\n",
    "import pandas as pd\n",
    "from scipy import io\n",
    "from scipy.stats import linregress, describe\n",
    "import matplotlib.pyplot as plt"
   ]
  },
  {
   "cell_type": "code",
   "execution_count": 2,
   "id": "arctic-stable",
   "metadata": {},
   "outputs": [
    {
     "data": {
      "text/plain": [
       "(584, 60)"
      ]
     },
     "execution_count": 2,
     "metadata": {},
     "output_type": "execute_result"
    }
   ],
   "source": [
    "subplots_data = io.loadmat('subplots.mat')\n",
    "subplots = subplots_data['subplots']\n",
    "np.shape(subplots)"
   ]
  },
  {
   "cell_type": "code",
   "execution_count": 3,
   "id": "turkish-atmosphere",
   "metadata": {},
   "outputs": [],
   "source": [
    "lai_data = io.loadmat('fieldlai.mat')\n",
    "lai = lai_data['fieldlai'][0]"
   ]
  },
  {
   "cell_type": "code",
   "execution_count": 4,
   "id": "nonprofit-canyon",
   "metadata": {},
   "outputs": [
    {
     "data": {
      "text/plain": [
       "array([2.54, 2.88, 2.13, 1.58, 1.94, 2.69, 3.6 , 5.11, 2.06, 5.09, 3.72,\n",
       "       3.45, 3.3 , 2.76, 5.54, 6.16, 5.26, 4.47, 2.82, 1.63, 2.42, 2.33,\n",
       "       2.84, 2.12, 1.65, 2.82, 1.64, 1.95, 2.46, 1.62, 2.02, 1.76, 1.31,\n",
       "       2.25, 2.23, 4.94, 2.96, 3.33, 4.15, 4.13, 3.12, 2.76, 3.53, 3.09,\n",
       "       5.43, 5.29, 4.39, 4.24, 2.74, 1.98, 3.05, 3.02, 1.96, 1.09, 1.43,\n",
       "       2.2 , 1.4 , 1.08, 1.38, 1.36])"
      ]
     },
     "execution_count": 4,
     "metadata": {},
     "output_type": "execute_result"
    }
   ],
   "source": [
    "lai"
   ]
  },
  {
   "cell_type": "code",
   "execution_count": 5,
   "id": "phantom-fight",
   "metadata": {},
   "outputs": [
    {
     "data": {
      "text/plain": [
       "(584, 60)"
      ]
     },
     "execution_count": 5,
     "metadata": {},
     "output_type": "execute_result"
    }
   ],
   "source": [
    "np.shape(subplots)"
   ]
  },
  {
   "cell_type": "code",
   "execution_count": 6,
   "id": "tracked-second",
   "metadata": {},
   "outputs": [
    {
     "data": {
      "text/plain": [
       "array([1.63317647, 1.38608824, 1.62261765, 1.79544118, 1.68752941,\n",
       "       1.67151471, 1.47005882, 1.59147059, 1.82079412, 1.59147059,\n",
       "       1.57344118, 1.50098529, 1.68394118, 1.57008824, 1.08202941,\n",
       "       1.20861765, 1.25638235, 1.08070588, 1.57085294, 2.16738235,\n",
       "       1.95238235, 1.81352941, 2.08175   , 1.90726471, 2.09808824,\n",
       "       2.08175   , 2.33644118, 2.22614706, 2.57552941, 2.33644118,\n",
       "       1.86614706, 2.0985    , 2.11570588, 1.97244118, 1.97244118,\n",
       "       1.40517647, 1.28297059, 1.16147059, 1.22147059, 1.22147059,\n",
       "       1.31923529, 1.57044118, 1.5285    , 1.31923529, 1.80142647,\n",
       "       1.80820588, 2.04101471, 1.59355882, 1.36820588, 1.83016176,\n",
       "       1.79188235, 1.79188235, 1.83016176, 2.00617647, 1.58475   ,\n",
       "       1.91720588, 1.58475   , 2.21720588, 2.12017647, 1.88023529])"
      ]
     },
     "execution_count": 6,
     "metadata": {},
     "output_type": "execute_result"
    }
   ],
   "source": [
    "subplots[0]"
   ]
  },
  {
   "cell_type": "code",
   "execution_count": 7,
   "id": "invisible-prisoner",
   "metadata": {},
   "outputs": [],
   "source": [
    "#NDVI=(infrared - red)/(infrared + red)\n",
    "nir = subplots[298]\n",
    "red = subplots[194]\n",
    "\n",
    "NDVIs = (nir - red)/(nir + red)"
   ]
  },
  {
   "cell_type": "code",
   "execution_count": 8,
   "id": "eligible-banking",
   "metadata": {},
   "outputs": [
    {
     "data": {
      "text/plain": [
       "array([0.80124622, 0.81770987, 0.76473776, 0.72382544, 0.64873222,\n",
       "       0.75548466, 0.89082889, 0.89531476, 0.7884871 , 0.89531476,\n",
       "       0.81173747, 0.80333766, 0.77236223, 0.80382923, 0.85751949,\n",
       "       0.8580105 , 0.87559191, 0.86222756, 0.80474732, 0.57425708,\n",
       "       0.66968322, 0.78267067, 0.75507011, 0.76554682, 0.68010971,\n",
       "       0.75507011, 0.67566579, 0.71202606, 0.62519671, 0.67566579,\n",
       "       0.67060712, 0.60581282, 0.64227121, 0.64010997, 0.64010997,\n",
       "       0.86753392, 0.84236327, 0.85384694, 0.85905979, 0.85905979,\n",
       "       0.78285882, 0.7369968 , 0.79290395, 0.78285882, 0.84722039,\n",
       "       0.84686323, 0.74473159, 0.83565894, 0.853673  , 0.78758038,\n",
       "       0.85288855, 0.85288855, 0.78758038, 0.75434658, 0.82933658,\n",
       "       0.74444646, 0.82933658, 0.75425191, 0.75075183, 0.82470582])"
      ]
     },
     "execution_count": 8,
     "metadata": {},
     "output_type": "execute_result"
    }
   ],
   "source": [
    "NDVIs"
   ]
  },
  {
   "cell_type": "code",
   "execution_count": 9,
   "id": "heavy-eight",
   "metadata": {},
   "outputs": [
    {
     "data": {
      "text/plain": [
       "0.4111413434942934"
      ]
     },
     "execution_count": 9,
     "metadata": {},
     "output_type": "execute_result"
    }
   ],
   "source": [
    "def r2(SVI):\n",
    "    coeff = linregress(SVI, lai) # calculate linear regression\n",
    "    return coeff.rvalue**2 #square the r_value to get coefficient of determination\n",
    "\n",
    "r2(NDVIs)"
   ]
  },
  {
   "cell_type": "code",
   "execution_count": 10,
   "id": "average-orbit",
   "metadata": {},
   "outputs": [],
   "source": [
    "NDVIn = {'R2':[], 'band1':[], 'band2':[]}\n",
    "for i,j in [(i, j) for i in enumerate(subplots) for j in enumerate(subplots)]:\n",
    "    if i[0] != j[0]:\n",
    "        NDVI = (i[1]-j[1])/(i[1]+j[1]) \n",
    "        NDVIn['R2'].append(r2(NDVI))\n",
    "        NDVIn['band1'].append(i[0])\n",
    "        NDVIn['band2'].append(j[0])"
   ]
  },
  {
   "cell_type": "code",
   "execution_count": 11,
   "id": "twelve-companion",
   "metadata": {},
   "outputs": [
    {
     "data": {
      "text/html": [
       "<div>\n",
       "<style scoped>\n",
       "    .dataframe tbody tr th:only-of-type {\n",
       "        vertical-align: middle;\n",
       "    }\n",
       "\n",
       "    .dataframe tbody tr th {\n",
       "        vertical-align: top;\n",
       "    }\n",
       "\n",
       "    .dataframe thead th {\n",
       "        text-align: right;\n",
       "    }\n",
       "</style>\n",
       "<table border=\"1\" class=\"dataframe\">\n",
       "  <thead>\n",
       "    <tr style=\"text-align: right;\">\n",
       "      <th></th>\n",
       "      <th>R2</th>\n",
       "      <th>band1</th>\n",
       "      <th>band2</th>\n",
       "    </tr>\n",
       "  </thead>\n",
       "  <tbody>\n",
       "    <tr>\n",
       "      <th>0</th>\n",
       "      <td>0.081155</td>\n",
       "      <td>0</td>\n",
       "      <td>1</td>\n",
       "    </tr>\n",
       "    <tr>\n",
       "      <th>1</th>\n",
       "      <td>0.082572</td>\n",
       "      <td>0</td>\n",
       "      <td>2</td>\n",
       "    </tr>\n",
       "    <tr>\n",
       "      <th>2</th>\n",
       "      <td>0.083652</td>\n",
       "      <td>0</td>\n",
       "      <td>3</td>\n",
       "    </tr>\n",
       "    <tr>\n",
       "      <th>3</th>\n",
       "      <td>0.084325</td>\n",
       "      <td>0</td>\n",
       "      <td>4</td>\n",
       "    </tr>\n",
       "    <tr>\n",
       "      <th>4</th>\n",
       "      <td>0.084516</td>\n",
       "      <td>0</td>\n",
       "      <td>5</td>\n",
       "    </tr>\n",
       "  </tbody>\n",
       "</table>\n",
       "</div>"
      ],
      "text/plain": [
       "         R2  band1  band2\n",
       "0  0.081155      0      1\n",
       "1  0.082572      0      2\n",
       "2  0.083652      0      3\n",
       "3  0.084325      0      4\n",
       "4  0.084516      0      5"
      ]
     },
     "execution_count": 11,
     "metadata": {},
     "output_type": "execute_result"
    }
   ],
   "source": [
    "band_combi = pd.DataFrame(NDVIn)\n",
    "band_combi.head()"
   ]
  },
  {
   "cell_type": "code",
   "execution_count": 13,
   "id": "nervous-modification",
   "metadata": {
    "scrolled": true
   },
   "outputs": [
    {
     "data": {
      "text/plain": [
       "R2         0.689201\n",
       "band1     72.000000\n",
       "band2    451.000000\n",
       "Name: 42426, dtype: float64"
      ]
     },
     "execution_count": 13,
     "metadata": {},
     "output_type": "execute_result"
    }
   ],
   "source": [
    "optimal_bands = band_combi.loc[band_combi['R2'].idxmax()]\n",
    "optimal_bands"
   ]
  },
  {
   "cell_type": "code",
   "execution_count": 14,
   "id": "separated-following",
   "metadata": {},
   "outputs": [],
   "source": [
    "#NDVI=(infrared - red)/(infrared + red)\n",
    "nir = subplots[int(optimal_bands.band2)]\n",
    "red = subplots[int(optimal_bands.band1)]\n",
    "\n",
    "NDVIn = (nir - red)/(nir + red)"
   ]
  },
  {
   "cell_type": "code",
   "execution_count": 15,
   "id": "minute-eligibility",
   "metadata": {},
   "outputs": [
    {
     "data": {
      "text/plain": [
       "array([0.76244576, 0.76017196, 0.72922792, 0.72148529, 0.71753213,\n",
       "       0.72971254, 0.78177368, 0.8181748 , 0.73535594, 0.8181748 ,\n",
       "       0.76083886, 0.77232423, 0.74663598, 0.75563119, 0.82166839,\n",
       "       0.8228885 , 0.81618218, 0.82159369, 0.73077345, 0.64335051,\n",
       "       0.69850748, 0.74577437, 0.73777418, 0.75284599, 0.73843788,\n",
       "       0.73777418, 0.71027831, 0.73140727, 0.69705952, 0.71027831,\n",
       "       0.74977976, 0.70719718, 0.73330682, 0.73185483, 0.73185483,\n",
       "       0.78180428, 0.75777199, 0.77170557, 0.76530315, 0.76530315,\n",
       "       0.7431252 , 0.76533426, 0.76300681, 0.7431252 , 0.81998579,\n",
       "       0.79419873, 0.70620363, 0.78881396, 0.73034947, 0.71167705,\n",
       "       0.75507705, 0.75507705, 0.71167705, 0.69905312, 0.74064528,\n",
       "       0.70071674, 0.74064528, 0.69574097, 0.69646747, 0.72235465])"
      ]
     },
     "execution_count": 15,
     "metadata": {},
     "output_type": "execute_result"
    }
   ],
   "source": [
    "NDVIn"
   ]
  },
  {
   "cell_type": "code",
   "execution_count": 17,
   "id": "cubic-locator",
   "metadata": {
    "scrolled": true
   },
   "outputs": [
    {
     "data": {
      "image/png": "[encoded data removed]",
      "text/plain": [
       "<Figure size 432x288 with 1 Axes>"
      ]
     },
     "metadata": {
      "needs_background": "light"
     },
     "output_type": "display_data"
    }
   ],
   "source": [
    "plt.scatter(NDVIs, lai)\n",
    "plt.xlabel('NDVIs')\n",
    "plt.ylabel('lai')\n",
    "plt.title('Standard NDVI (680 nm, 833 nm)')\n",
    "\n",
    "z = np.polyfit(NDVIs, lai, 1)\n",
    "p = np.poly1d(z)\n",
    "plt.plot(NDVIs,p(NDVIs),\"r--\")\n",
    "\n",
    "plt.text(0.58, 5.5, f'R squared = {r2(NDVIs)}')\n",
    "plt.show()"
   ]
  },
  {
   "cell_type": "code",
   "execution_count": 18,
   "id": "alive-completion",
   "metadata": {
    "scrolled": true
   },
   "outputs": [
    {
     "data": {
      "image/png": "[encoded data removed]",
      "text/plain": [
       "<Figure size 432x288 with 1 Axes>"
      ]
     },
     "metadata": {
      "needs_background": "light"
     },
     "output_type": "display_data"
    }
   ],
   "source": [
    "plt.scatter(NDVIn, lai)\n",
    "plt.xlabel('NDVIn')\n",
    "plt.ylabel('lai')\n",
    "plt.title(f'best Hyperspectral bands, {int(optimal_bands.band1)} and {int(optimal_bands.band2)}')\n",
    "\n",
    "z = np.polyfit(NDVIn, lai, 1)\n",
    "p = np.poly1d(z)\n",
    "plt.plot(NDVIn,p(NDVIn),\"r--\")\n",
    "\n",
    "plt.text(0.65, 5.5, f'R squared = {r2(NDVIn)}')\n",
    "plt.show()"
   ]
  },
  {
   "cell_type": "code",
   "execution_count": 28,
   "id": "informational-combine",
   "metadata": {},
   "outputs": [],
   "source": [
    "results = {'SVI Name':['standard NDVI', 'narrowband NDVI'],\n",
    "           'SVI Values':[NDVIs, NDVIn],\n",
    "           'Estimated LAI':[],\n",
    "           'R2':[],\n",
    "           'RMSE':[]\n",
    "          }\n",
    "    \n",
    "    \n",
    "def est_lai(NDVI):\n",
    "    return reg.intercept + (reg.slope * NDVI)\n",
    "\n",
    "\n",
    "def RMSE(estimated, measured):\n",
    "    return np.sqrt(np.mean((estimated-measured)**2))\n",
    "\n",
    "\n",
    "for SVI in results['SVI Values']:\n",
    "    reg = linregress(SVI, lai) # calculate linear regression\n",
    "    est = est_lai(SVI) # estimate lai using the regression equation\n",
    "    R2 = r2(SVI) # calculate coeficcient of determination \n",
    "    rmse = RMSE(est, lai) #calculate the RMSE\n",
    "    \n",
    "    #append results to dict\n",
    "    results['R2'].append(R2)  \n",
    "    results['Estimated LAI'].append(est) \n",
    "    results['RMSE'].append(rmse) "
   ]
  },
  {
   "cell_type": "code",
   "execution_count": 29,
   "id": "nearby-still",
   "metadata": {},
   "outputs": [
    {
     "data": {
      "text/html": [
       "<div>\n",
       "<style scoped>\n",
       "    .dataframe tbody tr th:only-of-type {\n",
       "        vertical-align: middle;\n",
       "    }\n",
       "\n",
       "    .dataframe tbody tr th {\n",
       "        vertical-align: top;\n",
       "    }\n",
       "\n",
       "    .dataframe thead th {\n",
       "        text-align: right;\n",
       "    }\n",
       "</style>\n",
       "<table border=\"1\" class=\"dataframe\">\n",
       "  <thead>\n",
       "    <tr style=\"text-align: right;\">\n",
       "      <th></th>\n",
       "      <th>SVI Name</th>\n",
       "      <th>SVI Values</th>\n",
       "      <th>Estimated LAI</th>\n",
       "      <th>R2</th>\n",
       "      <th>RMSE</th>\n",
       "    </tr>\n",
       "  </thead>\n",
       "  <tbody>\n",
       "    <tr>\n",
       "      <th>0</th>\n",
       "      <td>standard NDVI</td>\n",
       "      <td>[0.801246223380298, 0.817709867447483, 0.76473...</td>\n",
       "      <td>[3.159798814946276, 3.3286804244131414, 2.7853...</td>\n",
       "      <td>0.411141</td>\n",
       "      <td>0.977018</td>\n",
       "    </tr>\n",
       "    <tr>\n",
       "      <th>1</th>\n",
       "      <td>narrowband NDVI</td>\n",
       "      <td>[0.7624457645768697, 0.7601719591513552, 0.729...</td>\n",
       "      <td>[3.3431423447176662, 3.2794123880761212, 2.412...</td>\n",
       "      <td>0.689201</td>\n",
       "      <td>0.709801</td>\n",
       "    </tr>\n",
       "  </tbody>\n",
       "</table>\n",
       "</div>"
      ],
      "text/plain": [
       "          SVI Name                                         SVI Values  \\\n",
       "0    standard NDVI  [0.801246223380298, 0.817709867447483, 0.76473...   \n",
       "1  narrowband NDVI  [0.7624457645768697, 0.7601719591513552, 0.729...   \n",
       "\n",
       "                                       Estimated LAI        R2      RMSE  \n",
       "0  [3.159798814946276, 3.3286804244131414, 2.7853...  0.411141  0.977018  \n",
       "1  [3.3431423447176662, 3.2794123880761212, 2.412...  0.689201  0.709801  "
      ]
     },
     "execution_count": 29,
     "metadata": {},
     "output_type": "execute_result"
    }
   ],
   "source": [
    "results = pd.DataFrame(results)\n",
    "results"
   ]
  }
 ],
 "metadata": {
  "kernelspec": {
   "display_name": "Python 3",
   "language": "python",
   "name": "python3"
  },
  "language_info": {
   "codemirror_mode": {
    "name": "ipython",
    "version": 3
   },
   "file_extension": ".py",
   "mimetype": "text/x-python",
   "name": "python",
   "nbconvert_exporter": "python",
   "pygments_lexer": "ipython3",
   "version": "3.8.8"
  }
 },
 "nbformat": 4,
 "nbformat_minor": 5
}
