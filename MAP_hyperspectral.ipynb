{
 "cells": [
  {
   "cell_type": "code",
   "execution_count": 34,
   "id": "cordless-nursery",
   "metadata": {},
   "outputs": [],
   "source": [
    "import numpy as np\n",
    "from scipy import io\n",
    "from scipy.stats import linregress"
   ]
  },
  {
   "cell_type": "code",
   "execution_count": 19,
   "id": "arctic-stable",
   "metadata": {},
   "outputs": [],
   "source": [
    "subplots_data = io.loadmat('subplots.mat')np.shape(subplots)\n",
    "subplots = subplots_data['subplots']"
   ]
  },
  {
   "cell_type": "code",
   "execution_count": 31,
   "id": "turkish-atmosphere",
   "metadata": {},
   "outputs": [],
   "source": [
    "lai_data = io.loadmat('fieldlai.mat')\n",
    "lai = lai_data['fieldlai']"
   ]
  },
  {
   "cell_type": "code",
   "execution_count": 32,
   "id": "nonprofit-canyon",
   "metadata": {},
   "outputs": [
    {
     "data": {
      "text/plain": [
       "array([[2.54, 2.88, 2.13, 1.58, 1.94, 2.69, 3.6 , 5.11, 2.06, 5.09, 3.72,\n",
       "        3.45, 3.3 , 2.76, 5.54, 6.16, 5.26, 4.47, 2.82, 1.63, 2.42, 2.33,\n",
       "        2.84, 2.12, 1.65, 2.82, 1.64, 1.95, 2.46, 1.62, 2.02, 1.76, 1.31,\n",
       "        2.25, 2.23, 4.94, 2.96, 3.33, 4.15, 4.13, 3.12, 2.76, 3.53, 3.09,\n",
       "        5.43, 5.29, 4.39, 4.24, 2.74, 1.98, 3.05, 3.02, 1.96, 1.09, 1.43,\n",
       "        2.2 , 1.4 , 1.08, 1.38, 1.36]])"
      ]
     },
     "execution_count": 32,
     "metadata": {},
     "output_type": "execute_result"
    }
   ],
   "source": [
    "lai"
   ]
  },
  {
   "cell_type": "code",
   "execution_count": 24,
   "id": "phantom-fight",
   "metadata": {},
   "outputs": [
    {
     "data": {
      "text/plain": [
       "(584, 60)"
      ]
     },
     "execution_count": 24,
     "metadata": {},
     "output_type": "execute_result"
    }
   ],
   "source": [
    "np.shape(subplots)"
   ]
  },
  {
   "cell_type": "code",
   "execution_count": 22,
   "id": "tracked-second",
   "metadata": {},
   "outputs": [
    {
     "data": {
      "text/plain": [
       "array([1.63317647, 1.38608824, 1.62261765, 1.79544118, 1.68752941,\n",
       "       1.67151471, 1.47005882, 1.59147059, 1.82079412, 1.59147059,\n",
       "       1.57344118, 1.50098529, 1.68394118, 1.57008824, 1.08202941,\n",
       "       1.20861765, 1.25638235, 1.08070588, 1.57085294, 2.16738235,\n",
       "       1.95238235, 1.81352941, 2.08175   , 1.90726471, 2.09808824,\n",
       "       2.08175   , 2.33644118, 2.22614706, 2.57552941, 2.33644118,\n",
       "       1.86614706, 2.0985    , 2.11570588, 1.97244118, 1.97244118,\n",
       "       1.40517647, 1.28297059, 1.16147059, 1.22147059, 1.22147059,\n",
       "       1.31923529, 1.57044118, 1.5285    , 1.31923529, 1.80142647,\n",
       "       1.80820588, 2.04101471, 1.59355882, 1.36820588, 1.83016176,\n",
       "       1.79188235, 1.79188235, 1.83016176, 2.00617647, 1.58475   ,\n",
       "       1.91720588, 1.58475   , 2.21720588, 2.12017647, 1.88023529])"
      ]
     },
     "execution_count": 22,
     "metadata": {},
     "output_type": "execute_result"
    }
   ],
   "source": [
    "subplots[0]"
   ]
  },
  {
   "cell_type": "code",
   "execution_count": 27,
   "id": "invisible-prisoner",
   "metadata": {},
   "outputs": [],
   "source": [
    "#NDVI=(infrared - red)/(infrared + red)\n",
    "nir = subplots[298]\n",
    "red = subplots[194]\n",
    "\n",
    "NDVIs = (nir - red)/(nir + red)"
   ]
  },
  {
   "cell_type": "code",
   "execution_count": 28,
   "id": "eligible-banking",
   "metadata": {},
   "outputs": [
    {
     "data": {
      "text/plain": [
       "array([0.80124622, 0.81770987, 0.76473776, 0.72382544, 0.64873222,\n",
       "       0.75548466, 0.89082889, 0.89531476, 0.7884871 , 0.89531476,\n",
       "       0.81173747, 0.80333766, 0.77236223, 0.80382923, 0.85751949,\n",
       "       0.8580105 , 0.87559191, 0.86222756, 0.80474732, 0.57425708,\n",
       "       0.66968322, 0.78267067, 0.75507011, 0.76554682, 0.68010971,\n",
       "       0.75507011, 0.67566579, 0.71202606, 0.62519671, 0.67566579,\n",
       "       0.67060712, 0.60581282, 0.64227121, 0.64010997, 0.64010997,\n",
       "       0.86753392, 0.84236327, 0.85384694, 0.85905979, 0.85905979,\n",
       "       0.78285882, 0.7369968 , 0.79290395, 0.78285882, 0.84722039,\n",
       "       0.84686323, 0.74473159, 0.83565894, 0.853673  , 0.78758038,\n",
       "       0.85288855, 0.85288855, 0.78758038, 0.75434658, 0.82933658,\n",
       "       0.74444646, 0.82933658, 0.75425191, 0.75075183, 0.82470582])"
      ]
     },
     "execution_count": 28,
     "metadata": {},
     "output_type": "execute_result"
    }
   ],
   "source": [
    "NDVIs"
   ]
  },
  {
   "cell_type": "code",
   "execution_count": 35,
   "id": "heavy-eight",
   "metadata": {},
   "outputs": [],
   "source": [
    "coeff = linregress(NDVIs, lai) # calculate linear regression"
   ]
  },
  {
   "cell_type": "code",
   "execution_count": 37,
   "id": "golden-toyota",
   "metadata": {},
   "outputs": [
    {
     "data": {
      "text/plain": [
       "0.4111413434942934"
      ]
     },
     "execution_count": 37,
     "metadata": {},
     "output_type": "execute_result"
    }
   ],
   "source": [
    "coeff.rvalue**2 #square the r_value to get coefficient of determination"
   ]
  },
  {
   "cell_type": "code",
   "execution_count": null,
   "id": "collectible-diving",
   "metadata": {},
   "outputs": [],
   "source": []
  }
 ],
 "metadata": {
  "kernelspec": {
   "display_name": "Python 3",
   "language": "python",
   "name": "python3"
  },
  "language_info": {
   "codemirror_mode": {
    "name": "ipython",
    "version": 3
   },
   "file_extension": ".py",
   "mimetype": "text/x-python",
   "name": "python",
   "nbconvert_exporter": "python",
   "pygments_lexer": "ipython3",
   "version": "3.8.8"
  }
 },
 "nbformat": 4,
 "nbformat_minor": 5
}
